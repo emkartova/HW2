{
 "cells": [
  {
   "cell_type": "markdown",
   "id": "d94cb109",
   "metadata": {},
   "source": [
    "# Шаг 1 и 2"
   ]
  },
  {
   "cell_type": "code",
   "execution_count": 1,
   "id": "e9b571d6",
   "metadata": {},
   "outputs": [],
   "source": [
    "import zipfile\n",
    "import wget\n",
    "import gensim\n",
    "import numpy as np\n",
    "import matplotlib.pyplot as plt\n",
    "import scipy\n",
    "import scipy.cluster.hierarchy as hcluster"
   ]
  },
  {
   "cell_type": "markdown",
   "id": "8f2ca03b",
   "metadata": {},
   "source": [
    "С помощью инструкции разархивировать не получилось, поэтому достала model.bin вручную (модель с ID=220)"
   ]
  },
  {
   "cell_type": "code",
   "execution_count": 2,
   "id": "7abf6213",
   "metadata": {},
   "outputs": [],
   "source": [
    "model = gensim.models.KeyedVectors.load_word2vec_format('model.bin', binary=True)"
   ]
  },
  {
   "cell_type": "markdown",
   "id": "2f879f63",
   "metadata": {},
   "source": [
    "Выделяем существительные"
   ]
  },
  {
   "cell_type": "code",
   "execution_count": 3,
   "id": "ac05bbdd",
   "metadata": {},
   "outputs": [],
   "source": [
    "def is_number(s):\n",
    "    try:\n",
    "        float(s)\n",
    "        return True\n",
    "    except ValueError:\n",
    "        return False\n",
    "\n",
    "with open(\"HW2_igrat'.txt\", 'r', encoding='utf-8') as file:\n",
    "    text = file.read()\n",
    "    text_splitted = text.split()\n",
    "    for i in text_splitted:\n",
    "        if is_number(i) == True:\n",
    "            text_splitted.remove(i)\n",
    "            \n",
    "verb = 'играть_VERB'\n",
    "m_verb = model[verb]"
   ]
  },
  {
   "cell_type": "markdown",
   "id": "db07069a",
   "metadata": {},
   "source": [
    "Находим вектор существительного и складываем с вектором глагола (простая аддитивная модель композиции)"
   ]
  },
  {
   "cell_type": "code",
   "execution_count": 6,
   "id": "fbf76038",
   "metadata": {},
   "outputs": [],
   "source": [
    "add_model = []\n",
    "for pair in text_splitted:\n",
    "    noun = pair[7:] + '_NOUN'\n",
    "    m_noun = model[noun]\n",
    "    add_model.append(m_noun + m_verb)"
   ]
  }
 ],
 "metadata": {
  "kernelspec": {
   "display_name": "Python 3",
   "language": "python",
   "name": "python3"
  },
  "language_info": {
   "codemirror_mode": {
    "name": "ipython",
    "version": 3
   },
   "file_extension": ".py",
   "mimetype": "text/x-python",
   "name": "python",
   "nbconvert_exporter": "python",
   "pygments_lexer": "ipython3",
   "version": "3.8.8"
  }
 },
 "nbformat": 4,
 "nbformat_minor": 5
}
